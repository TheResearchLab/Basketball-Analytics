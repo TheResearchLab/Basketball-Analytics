{
 "cells": [
  {
   "cell_type": "code",
   "execution_count": 44,
   "metadata": {},
   "outputs": [],
   "source": [
    "import pandas as pd\n",
    "import numpy as np"
   ]
  },
  {
   "cell_type": "code",
   "execution_count": 6,
   "metadata": {},
   "outputs": [],
   "source": [
    "# Remove transformation columns.\n",
    "# Drop nulls\n",
    "df = pd.read_csv('basketballData.csv').drop([\"Unnamed: 0\",\n",
    "                                             \"AwayWinFlag\",\n",
    "                                             \"HomePts\",\n",
    "                                            \"HomeScoringMargin\",\n",
    "                                             \"HomeOffensiveEfficiency\",\n",
    "                                            \"AwayPts\",\n",
    "                                             \"AwayScoringMargin\",\n",
    "                                             \"AwayOffensiveEfficiency\",\n",
    "                                            \"NumHomeWins\",\n",
    "                                             \"NumAwayWins\",\n",
    "                                             \"HomeWinPctg\",\n",
    "                                             \"AwayWinPctg\",\n",
    "                                            \"TotalAwayGame\",\n",
    "                                             \"TotalHomeGame\",\n",
    "                                             \"HomeRollingOE\",\n",
    "                                             \"AwayRollingOE\",\n",
    "                                            \"HomeAvgScoringMargin\",\n",
    "                                             \"AwayAvgScoringMargin\"],axis=1).dropna()"
   ]
  },
  {
   "cell_type": "code",
   "execution_count": 7,
   "metadata": {},
   "outputs": [],
   "source": [
    "df[\"DATE\"] = pd.to_datetime(df[\"DATE\"])"
   ]
  },
  {
   "cell_type": "code",
   "execution_count": 8,
   "metadata": {},
   "outputs": [
    {
     "data": {
      "text/html": [
       "<div>\n",
       "<style scoped>\n",
       "    .dataframe tbody tr th:only-of-type {\n",
       "        vertical-align: middle;\n",
       "    }\n",
       "\n",
       "    .dataframe tbody tr th {\n",
       "        vertical-align: top;\n",
       "    }\n",
       "\n",
       "    .dataframe thead th {\n",
       "        text-align: right;\n",
       "    }\n",
       "</style>\n",
       "<table border=\"1\" class=\"dataframe\">\n",
       "  <thead>\n",
       "    <tr style=\"text-align: right;\">\n",
       "      <th></th>\n",
       "      <th>MATCHUP</th>\n",
       "      <th>GAME_ID</th>\n",
       "      <th>SEASON</th>\n",
       "      <th>DATE</th>\n",
       "      <th>HomeTeamID</th>\n",
       "      <th>AwayTeamID</th>\n",
       "      <th>HomeWinFlag</th>\n",
       "      <th>HomeNxtGameWinPctg</th>\n",
       "      <th>HomeNxtGameOE</th>\n",
       "      <th>HomeNxtGameASM</th>\n",
       "      <th>AwayNxtGameWinPctg</th>\n",
       "      <th>AwayNxtGameOE</th>\n",
       "      <th>AwayNxtGameASM</th>\n",
       "    </tr>\n",
       "  </thead>\n",
       "  <tbody>\n",
       "    <tr>\n",
       "      <th>583</th>\n",
       "      <td>Trail Blazers at Clippers</td>\n",
       "      <td>21900115</td>\n",
       "      <td>2019-20</td>\n",
       "      <td>2019-11-07</td>\n",
       "      <td>1610612746</td>\n",
       "      <td>1610612757</td>\n",
       "      <td>1</td>\n",
       "      <td>0.800000</td>\n",
       "      <td>0.509889</td>\n",
       "      <td>7.4</td>\n",
       "      <td>0.600000</td>\n",
       "      <td>0.558082</td>\n",
       "      <td>0.6</td>\n",
       "    </tr>\n",
       "    <tr>\n",
       "      <th>719</th>\n",
       "      <td>Bucks at Thunder</td>\n",
       "      <td>21900135</td>\n",
       "      <td>2019-20</td>\n",
       "      <td>2019-11-10</td>\n",
       "      <td>1610612760</td>\n",
       "      <td>1610612749</td>\n",
       "      <td>0</td>\n",
       "      <td>0.666667</td>\n",
       "      <td>0.556835</td>\n",
       "      <td>10.0</td>\n",
       "      <td>0.666667</td>\n",
       "      <td>0.535040</td>\n",
       "      <td>10.2</td>\n",
       "    </tr>\n",
       "    <tr>\n",
       "      <th>582</th>\n",
       "      <td>Raptors at Clippers</td>\n",
       "      <td>21900145</td>\n",
       "      <td>2019-20</td>\n",
       "      <td>2019-11-11</td>\n",
       "      <td>1610612746</td>\n",
       "      <td>1610612761</td>\n",
       "      <td>1</td>\n",
       "      <td>0.833333</td>\n",
       "      <td>0.514177</td>\n",
       "      <td>6.6</td>\n",
       "      <td>0.600000</td>\n",
       "      <td>0.559348</td>\n",
       "      <td>7.0</td>\n",
       "    </tr>\n",
       "    <tr>\n",
       "      <th>750</th>\n",
       "      <td>Timberwolves at Pistons</td>\n",
       "      <td>21900140</td>\n",
       "      <td>2019-20</td>\n",
       "      <td>2019-11-11</td>\n",
       "      <td>1610612765</td>\n",
       "      <td>1610612750</td>\n",
       "      <td>0</td>\n",
       "      <td>0.600000</td>\n",
       "      <td>0.566802</td>\n",
       "      <td>0.6</td>\n",
       "      <td>0.600000</td>\n",
       "      <td>0.575231</td>\n",
       "      <td>1.4</td>\n",
       "    </tr>\n",
       "    <tr>\n",
       "      <th>858</th>\n",
       "      <td>76ers at Magic</td>\n",
       "      <td>21900155</td>\n",
       "      <td>2019-20</td>\n",
       "      <td>2019-11-13</td>\n",
       "      <td>1610612753</td>\n",
       "      <td>1610612755</td>\n",
       "      <td>1</td>\n",
       "      <td>0.500000</td>\n",
       "      <td>0.560234</td>\n",
       "      <td>0.2</td>\n",
       "      <td>0.500000</td>\n",
       "      <td>0.590691</td>\n",
       "      <td>-1.4</td>\n",
       "    </tr>\n",
       "    <tr>\n",
       "      <th>...</th>\n",
       "      <td>...</td>\n",
       "      <td>...</td>\n",
       "      <td>...</td>\n",
       "      <td>...</td>\n",
       "      <td>...</td>\n",
       "      <td>...</td>\n",
       "      <td>...</td>\n",
       "      <td>...</td>\n",
       "      <td>...</td>\n",
       "      <td>...</td>\n",
       "      <td>...</td>\n",
       "      <td>...</td>\n",
       "      <td>...</td>\n",
       "    </tr>\n",
       "    <tr>\n",
       "      <th>2887</th>\n",
       "      <td>Heat at Magic</td>\n",
       "      <td>22101227</td>\n",
       "      <td>2021-22</td>\n",
       "      <td>2022-04-10</td>\n",
       "      <td>1610612753</td>\n",
       "      <td>1610612748</td>\n",
       "      <td>1</td>\n",
       "      <td>0.275000</td>\n",
       "      <td>0.528992</td>\n",
       "      <td>-7.6</td>\n",
       "      <td>0.600000</td>\n",
       "      <td>0.539377</td>\n",
       "      <td>6.0</td>\n",
       "    </tr>\n",
       "    <tr>\n",
       "      <th>2450</th>\n",
       "      <td>Bulls at Timberwolves</td>\n",
       "      <td>22101224</td>\n",
       "      <td>2021-22</td>\n",
       "      <td>2022-04-10</td>\n",
       "      <td>1610612750</td>\n",
       "      <td>1610612741</td>\n",
       "      <td>0</td>\n",
       "      <td>0.650000</td>\n",
       "      <td>0.574206</td>\n",
       "      <td>3.8</td>\n",
       "      <td>0.450000</td>\n",
       "      <td>0.608822</td>\n",
       "      <td>-6.6</td>\n",
       "    </tr>\n",
       "    <tr>\n",
       "      <th>2589</th>\n",
       "      <td>Lakers at Nuggets</td>\n",
       "      <td>22101220</td>\n",
       "      <td>2021-22</td>\n",
       "      <td>2022-04-10</td>\n",
       "      <td>1610612743</td>\n",
       "      <td>1610612747</td>\n",
       "      <td>0</td>\n",
       "      <td>0.575000</td>\n",
       "      <td>0.584375</td>\n",
       "      <td>-3.2</td>\n",
       "      <td>0.275000</td>\n",
       "      <td>0.576790</td>\n",
       "      <td>-13.2</td>\n",
       "    </tr>\n",
       "    <tr>\n",
       "      <th>3358</th>\n",
       "      <td>Wizards at Hornets</td>\n",
       "      <td>22101217</td>\n",
       "      <td>2021-22</td>\n",
       "      <td>2022-04-10</td>\n",
       "      <td>1610612766</td>\n",
       "      <td>1610612764</td>\n",
       "      <td>1</td>\n",
       "      <td>0.525000</td>\n",
       "      <td>0.608445</td>\n",
       "      <td>3.4</td>\n",
       "      <td>0.350000</td>\n",
       "      <td>0.583495</td>\n",
       "      <td>-9.6</td>\n",
       "    </tr>\n",
       "    <tr>\n",
       "      <th>2374</th>\n",
       "      <td>Warriors at Pelicans</td>\n",
       "      <td>22101225</td>\n",
       "      <td>2021-22</td>\n",
       "      <td>2022-04-10</td>\n",
       "      <td>1610612740</td>\n",
       "      <td>1610612744</td>\n",
       "      <td>0</td>\n",
       "      <td>0.475000</td>\n",
       "      <td>0.621107</td>\n",
       "      <td>7.6</td>\n",
       "      <td>0.525000</td>\n",
       "      <td>0.564958</td>\n",
       "      <td>-4.4</td>\n",
       "    </tr>\n",
       "  </tbody>\n",
       "</table>\n",
       "<p>2856 rows × 13 columns</p>\n",
       "</div>"
      ],
      "text/plain": [
       "                         MATCHUP   GAME_ID   SEASON       DATE  HomeTeamID  \\\n",
       "583    Trail Blazers at Clippers  21900115  2019-20 2019-11-07  1610612746   \n",
       "719             Bucks at Thunder  21900135  2019-20 2019-11-10  1610612760   \n",
       "582          Raptors at Clippers  21900145  2019-20 2019-11-11  1610612746   \n",
       "750      Timberwolves at Pistons  21900140  2019-20 2019-11-11  1610612765   \n",
       "858               76ers at Magic  21900155  2019-20 2019-11-13  1610612753   \n",
       "...                          ...       ...      ...        ...         ...   \n",
       "2887               Heat at Magic  22101227  2021-22 2022-04-10  1610612753   \n",
       "2450       Bulls at Timberwolves  22101224  2021-22 2022-04-10  1610612750   \n",
       "2589           Lakers at Nuggets  22101220  2021-22 2022-04-10  1610612743   \n",
       "3358          Wizards at Hornets  22101217  2021-22 2022-04-10  1610612766   \n",
       "2374        Warriors at Pelicans  22101225  2021-22 2022-04-10  1610612740   \n",
       "\n",
       "      AwayTeamID  HomeWinFlag  HomeNxtGameWinPctg  HomeNxtGameOE  \\\n",
       "583   1610612757            1            0.800000       0.509889   \n",
       "719   1610612749            0            0.666667       0.556835   \n",
       "582   1610612761            1            0.833333       0.514177   \n",
       "750   1610612750            0            0.600000       0.566802   \n",
       "858   1610612755            1            0.500000       0.560234   \n",
       "...          ...          ...                 ...            ...   \n",
       "2887  1610612748            1            0.275000       0.528992   \n",
       "2450  1610612741            0            0.650000       0.574206   \n",
       "2589  1610612747            0            0.575000       0.584375   \n",
       "3358  1610612764            1            0.525000       0.608445   \n",
       "2374  1610612744            0            0.475000       0.621107   \n",
       "\n",
       "      HomeNxtGameASM  AwayNxtGameWinPctg  AwayNxtGameOE  AwayNxtGameASM  \n",
       "583              7.4            0.600000       0.558082             0.6  \n",
       "719             10.0            0.666667       0.535040            10.2  \n",
       "582              6.6            0.600000       0.559348             7.0  \n",
       "750              0.6            0.600000       0.575231             1.4  \n",
       "858              0.2            0.500000       0.590691            -1.4  \n",
       "...              ...                 ...            ...             ...  \n",
       "2887            -7.6            0.600000       0.539377             6.0  \n",
       "2450             3.8            0.450000       0.608822            -6.6  \n",
       "2589            -3.2            0.275000       0.576790           -13.2  \n",
       "3358             3.4            0.350000       0.583495            -9.6  \n",
       "2374             7.6            0.525000       0.564958            -4.4  \n",
       "\n",
       "[2856 rows x 13 columns]"
      ]
     },
     "execution_count": 8,
     "metadata": {},
     "output_type": "execute_result"
    }
   ],
   "source": [
    "df.sort_values(\"DATE\")"
   ]
  },
  {
   "cell_type": "code",
   "execution_count": 9,
   "metadata": {},
   "outputs": [],
   "source": [
    "# Validation Data\n",
    "valData = df[df[\"DATE\"] > \"2021-09-01\"].iloc[:,6:]\n",
    "\n",
    "# Training Data\n",
    "trainData = df[df[\"DATE\"] < \"2021-09-01\"].iloc[:,6:]"
   ]
  },
  {
   "cell_type": "code",
   "execution_count": 10,
   "metadata": {},
   "outputs": [
    {
     "name": "stdout",
     "output_type": "stream",
     "text": [
      "<class 'pandas.core.frame.DataFrame'>\n",
      "Int64Index: 1799 entries, 0 to 2138\n",
      "Data columns (total 7 columns):\n",
      " #   Column              Non-Null Count  Dtype  \n",
      "---  ------              --------------  -----  \n",
      " 0   HomeWinFlag         1799 non-null   int64  \n",
      " 1   HomeNxtGameWinPctg  1799 non-null   float64\n",
      " 2   HomeNxtGameOE       1799 non-null   float64\n",
      " 3   HomeNxtGameASM      1799 non-null   float64\n",
      " 4   AwayNxtGameWinPctg  1799 non-null   float64\n",
      " 5   AwayNxtGameOE       1799 non-null   float64\n",
      " 6   AwayNxtGameASM      1799 non-null   float64\n",
      "dtypes: float64(6), int64(1)\n",
      "memory usage: 112.4 KB\n"
     ]
    }
   ],
   "source": [
    "trainData.info()"
   ]
  },
  {
   "cell_type": "markdown",
   "metadata": {},
   "source": [
    "# Logistic Regression"
   ]
  },
  {
   "cell_type": "code",
   "execution_count": 11,
   "metadata": {},
   "outputs": [
    {
     "data": {
      "text/plain": [
       "0.6148148148148148"
      ]
     },
     "execution_count": 11,
     "metadata": {},
     "output_type": "execute_result"
    }
   ],
   "source": [
    "from sklearn.linear_model import LogisticRegression\n",
    "from sklearn.model_selection import train_test_split,cross_val_score\n",
    "from sklearn import preprocessing \n",
    "from sklearn import metrics \n",
    "from sklearn.metrics import classification_report\n",
    "\n",
    "#Logistict Regression Model \n",
    "inputs = trainData.drop(['HomeWinFlag'],axis='columns').astype('float')\n",
    "target = trainData['HomeWinFlag'].astype('int')\n",
    "\n",
    "X_train, X_test, y_train, y_test = train_test_split(inputs,target,test_size=0.3) \n",
    "\n",
    "\n",
    "# Standard Scaling Prediction Variables\n",
    "scaler = preprocessing.StandardScaler()\n",
    "scaler.fit(X_train)\n",
    "scaled_data_train = scaler.transform(X_train) #May need to transpose? df.T\n",
    "\n",
    "scaler.fit(X_test)\n",
    "scaled_data_test = scaler.transform(X_test)\n",
    "\n",
    "# Build Logistic Regression Model\n",
    "model = LogisticRegression();\n",
    "\n",
    "model.fit(scaled_data_train, y_train);\n",
    "model.score(scaled_data_test,y_test)"
   ]
  },
  {
   "cell_type": "code",
   "execution_count": 12,
   "metadata": {},
   "outputs": [
    {
     "name": "stdout",
     "output_type": "stream",
     "text": [
      "Logistic Model F1 Accuracy: 0.58 (+/- 0.14)\n"
     ]
    }
   ],
   "source": [
    "F1Score = cross_val_score(model,scaled_data_test,y_test,cv=12,scoring='f1_macro');\n",
    "print(\"Logistic Model F1 Accuracy: %0.2f (+/- %0.2f)\"%(F1Score.mean(), F1Score.std() *2))"
   ]
  },
  {
   "cell_type": "code",
   "execution_count": 14,
   "metadata": {},
   "outputs": [],
   "source": [
    "import seaborn as sns\n",
    "import matplotlib.pyplot as plt"
   ]
  },
  {
   "cell_type": "code",
   "execution_count": 18,
   "metadata": {},
   "outputs": [
    {
     "data": {
      "image/png": "[encoded data removed]",
      "text/plain": [
       "<Figure size 432x288 with 1 Axes>"
      ]
     },
     "metadata": {
      "needs_background": "light"
     },
     "output_type": "display_data"
    }
   ],
   "source": [
    "#More wins than losses? \n",
    "# MA columns removes data from the dataset\n",
    "sns.histplot(x=\"HomeWinFlag\", data=trainData,discrete=True);\n",
    "plt.xticks([0,1]);\n",
    "plt.title('Counts of wins and losses');"
   ]
  },
  {
   "cell_type": "markdown",
   "metadata": {},
   "source": [
    "# XG Boost Model"
   ]
  },
  {
   "cell_type": "code",
   "execution_count": 22,
   "metadata": {},
   "outputs": [],
   "source": [
    "from xgboost import XGBClassifier"
   ]
  },
  {
   "cell_type": "code",
   "execution_count": 27,
   "metadata": {},
   "outputs": [
    {
     "name": "stdout",
     "output_type": "stream",
     "text": [
      "XGBClassifier(base_score=0.5, booster='gbtree', callbacks=None,\n",
      "              colsample_bylevel=1, colsample_bynode=1, colsample_bytree=1,\n",
      "              early_stopping_rounds=None, enable_categorical=False,\n",
      "              eval_metric=None, gamma=0, gpu_id=-1, grow_policy='depthwise',\n",
      "              importance_type=None, interaction_constraints='',\n",
      "              learning_rate=0.300000012, max_bin=256, max_cat_to_onehot=4,\n",
      "              max_delta_step=0, max_depth=6, max_leaves=0, min_child_weight=1,\n",
      "              missing=nan, monotone_constraints='()', n_estimators=100,\n",
      "              n_jobs=0, num_parallel_tree=1, predictor='auto', random_state=0,\n",
      "              reg_alpha=0, reg_lambda=1, ...)\n"
     ]
    }
   ],
   "source": [
    "# fit model no training data\n",
    "model = XGBClassifier()\n",
    "model.fit(scaled_data_train, y_train);\n",
    "print(model)"
   ]
  },
  {
   "cell_type": "code",
   "execution_count": 28,
   "metadata": {},
   "outputs": [
    {
     "data": {
      "text/plain": [
       "0.5611111111111111"
      ]
     },
     "execution_count": 28,
     "metadata": {},
     "output_type": "execute_result"
    }
   ],
   "source": [
    "# Model accuracy\n",
    "model.score(scaled_data_test,y_test)"
   ]
  },
  {
   "cell_type": "code",
   "execution_count": 31,
   "metadata": {},
   "outputs": [
    {
     "name": "stdout",
     "output_type": "stream",
     "text": [
      "XGBOOST Model F1 Accuracy: 0.58 (+/- 0.18)\n"
     ]
    }
   ],
   "source": [
    "# F1 score on test data\n",
    "F1Score = cross_val_score(model,scaled_data_test,y_test,cv=12,scoring='f1_macro');\n",
    "print(\"XGBOOST Model F1 Accuracy: %0.2f (+/- %0.2f)\"%(F1Score.mean(), F1Score.std() *2))"
   ]
  },
  {
   "cell_type": "code",
   "execution_count": 32,
   "metadata": {},
   "outputs": [
    {
     "name": "stdout",
     "output_type": "stream",
     "text": [
      "XGBOOST Model F1 Accuracy: 0.58 (+/- 0.10)\n"
     ]
    }
   ],
   "source": [
    "# F1 Score on training data\n",
    "F1Score = cross_val_score(model,scaled_data_train,y_train,cv=12,scoring='f1_macro');\n",
    "print(\"XGBOOST Model F1 Accuracy: %0.2f (+/- %0.2f)\"%(F1Score.mean(), F1Score.std() *2))"
   ]
  },
  {
   "cell_type": "markdown",
   "metadata": {},
   "source": [
    "# Artificial Neural Network"
   ]
  },
  {
   "cell_type": "code",
   "execution_count": 33,
   "metadata": {},
   "outputs": [],
   "source": [
    "from tensorflow.keras import layers, models"
   ]
  },
  {
   "cell_type": "code",
   "execution_count": 52,
   "metadata": {},
   "outputs": [
    {
     "data": {
      "text/plain": [
       "<keras.callbacks.History at 0x1e55c09a4f0>"
      ]
     },
     "execution_count": 52,
     "metadata": {},
     "output_type": "execute_result"
    }
   ],
   "source": [
    "# Build ANN\n",
    "\n",
    "modelANN = models.Sequential([\n",
    "    layers.Flatten(input_shape =(scaled_data_train.shape[1],)),\n",
    "    layers.Dense(100,activation='relu'),\n",
    "    layers.Dense(30,activation='relu'),\n",
    "    layers.Dense(2,activation='softmax')\n",
    "])\n",
    "\n",
    "modelANN.compile(optimizer='adam',loss='sparse_categorical_crossentropy',metrics=['accuracy']);\n",
    "modelANN.fit(X_train,y_train,epochs=100,verbose=0)"
   ]
  },
  {
   "cell_type": "code",
   "execution_count": 53,
   "metadata": {},
   "outputs": [
    {
     "name": "stdout",
     "output_type": "stream",
     "text": [
      "17/17 [==============================] - 0s 687us/step - loss: 0.8059 - accuracy: 0.5889\n"
     ]
    }
   ],
   "source": [
    "# Model accuracy\n",
    "modelANN.evaluate(scaled_data_test,y_test);"
   ]
  },
  {
   "cell_type": "code",
   "execution_count": 54,
   "metadata": {},
   "outputs": [
    {
     "name": "stdout",
     "output_type": "stream",
     "text": [
      "              precision    recall  f1-score   support\n",
      "\n",
      "           0       0.51      0.68      0.58       229\n",
      "           1       0.69      0.52      0.59       311\n",
      "\n",
      "    accuracy                           0.59       540\n",
      "   macro avg       0.60      0.60      0.59       540\n",
      "weighted avg       0.61      0.59      0.59       540\n",
      "\n"
     ]
    }
   ],
   "source": [
    "# ANN's F1-Score\n",
    "\n",
    "y_pred = modelANN.predict(scaled_data_test)\n",
    "\n",
    "df = []\n",
    "winLoss = [0,1]\n",
    "for i in range(len(X_test)):\n",
    "    df.append(winLoss[np.argmax(y_pred[i])])\n",
    "\n",
    "y_pred = df    \n",
    "print(classification_report(y_test,y_pred))"
   ]
  },
  {
   "cell_type": "code",
   "execution_count": null,
   "metadata": {},
   "outputs": [],
   "source": []
  }
 ],
 "metadata": {
  "kernelspec": {
   "display_name": "Python 3",
   "language": "python",
   "name": "python3"
  },
  "language_info": {
   "codemirror_mode": {
    "name": "ipython",
    "version": 3
   },
   "file_extension": ".py",
   "mimetype": "text/x-python",
   "name": "python",
   "nbconvert_exporter": "python",
   "pygments_lexer": "ipython3",
   "version": "3.8.5"
  }
 },
 "nbformat": 4,
 "nbformat_minor": 4
}
